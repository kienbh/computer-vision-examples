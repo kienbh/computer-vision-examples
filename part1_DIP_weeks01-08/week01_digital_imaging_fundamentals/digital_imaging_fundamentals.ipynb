{
 "cells": [
  {
   "cell_type": "markdown",
   "metadata": {},
   "source": [
    "# Week 01 · Digital Imaging Fundamentals\n",
    "\n",
    "**Course:** Computer Vision (BCSE)  \n",
    "**Instructor:** Bùi Huy Kiên  \n",
    "\n",
    "---\n"
   ]
  },
  {
   "cell_type": "markdown",
   "metadata": {},
   "source": [
    "## 🎯 Mục tiêu học tập\n",
    "Sau khi hoàn thành bài này, sinh viên sẽ có thể:\n",
    "- Hiểu được khái niệm về ảnh số (pixel, biểu diễn dưới dạng ma trận).\n",
    "- Giải thích được các khái niệm lấy mẫu (sampling), lượng tử hóa (quantization) và độ phân giải (resolution).\n",
    "- Thao tác và hiển thị ảnh bằng OpenCV.\n",
    "- Quan sát được ảnh hưởng của việc giảm độ phân giải và số mức xám.\n",
    "\n"
   ]
  },
  {
   "cell_type": "markdown",
   "metadata": {},
   "source": [
    "## 📘 Ôn tập lý thuyết\n",
    "- **Ảnh số (Digital Image)** = ma trận 2 chiều gồm các pixel.  \n",
    "- **Lấy mẫu (Sampling)** = chọn số lượng pixel để biểu diễn ảnh.  \n",
    "- **Lượng tử hóa (Quantization)** = quyết định số mức cường độ sáng (mức xám) mà mỗi pixel có thể nhận.  \n",
    "- **Độ phân giải (Resolution)** = được xác định bởi cả việc lấy mẫu và lượng tử hóa.  \n",
    "- **Biểu diễn màu (Color Representation)** = các hệ màu như RGB, Grayscale, HSV.  \n"
   ]
  },
  {
   "cell_type": "code",
   "execution_count": 1,
   "metadata": {},
   "outputs": [
    {
     "ename": "ModuleNotFoundError",
     "evalue": "No module named 'cv2'",
     "output_type": "error",
     "traceback": [
      "\u001b[1;31m---------------------------------------------------------------------------\u001b[0m",
      "\u001b[1;31mModuleNotFoundError\u001b[0m                       Traceback (most recent call last)",
      "Cell \u001b[1;32mIn[1], line 1\u001b[0m\n\u001b[1;32m----> 1\u001b[0m \u001b[38;5;28;01mimport\u001b[39;00m \u001b[38;5;21;01mcv2\u001b[39;00m\n\u001b[0;32m      2\u001b[0m \u001b[38;5;28;01mimport\u001b[39;00m \u001b[38;5;21;01mmatplotlib\u001b[39;00m\u001b[38;5;21;01m.\u001b[39;00m\u001b[38;5;21;01mpyplot\u001b[39;00m \u001b[38;5;28;01mas\u001b[39;00m \u001b[38;5;21;01mplt\u001b[39;00m\n\u001b[0;32m      3\u001b[0m \u001b[38;5;28;01mimport\u001b[39;00m \u001b[38;5;21;01mnumpy\u001b[39;00m \u001b[38;5;28;01mas\u001b[39;00m \u001b[38;5;21;01mnp\u001b[39;00m\n",
      "\u001b[1;31mModuleNotFoundError\u001b[0m: No module named 'cv2'"
     ]
    }
   ],
   "source": [
    "import cv2\n",
    "import matplotlib.pyplot as plt\n",
    "import numpy as np\n",
    "\n",
    "# For inline plots\n",
    "%matplotlib inline\n"
   ]
  },
  {
   "cell_type": "code",
   "execution_count": 7,
   "metadata": {},
   "outputs": [
    {
     "ename": "NameError",
     "evalue": "name 'cv2' is not defined",
     "output_type": "error",
     "traceback": [
      "\u001b[1;31m---------------------------------------------------------------------------\u001b[0m",
      "\u001b[1;31mNameError\u001b[0m                                 Traceback (most recent call last)",
      "Cell \u001b[1;32mIn[7], line 2\u001b[0m\n\u001b[0;32m      1\u001b[0m \u001b[38;5;66;03m# Load image\u001b[39;00m\n\u001b[1;32m----> 2\u001b[0m img \u001b[38;5;241m=\u001b[39m cv2\u001b[38;5;241m.\u001b[39mimread(\u001b[38;5;124m\"\u001b[39m\u001b[38;5;124mlena.png\u001b[39m\u001b[38;5;124m\"\u001b[39m)   \u001b[38;5;66;03m# replace with any image file\u001b[39;00m\n\u001b[0;32m      3\u001b[0m img_rgb \u001b[38;5;241m=\u001b[39m cv2\u001b[38;5;241m.\u001b[39mcvtColor(img, cv2\u001b[38;5;241m.\u001b[39mCOLOR_BGR2RGB)\n\u001b[0;32m      5\u001b[0m plt\u001b[38;5;241m.\u001b[39mimshow(img_rgb)\n",
      "\u001b[1;31mNameError\u001b[0m: name 'cv2' is not defined"
     ]
    }
   ],
   "source": [
    "# Load image\n",
    "img = cv2.imread(\"3.jpg\")   # replace with any image file\n",
    "img_rgb = cv2.cvtColor(img, cv2.COLOR_BGR2RGB)\n",
    "\n",
    "plt.imshow(img_rgb)\n",
    "plt.title(\"Original Image\")\n",
    "plt.axis(\"off\")\n",
    "plt.show()"
   ]
  },
  {
   "cell_type": "code",
   "execution_count": null,
   "metadata": {},
   "outputs": [],
   "source": [
    "# Show shape and a few pixel values\n",
    "print(\"Image shape (H, W, C):\", img_rgb.shape)\n",
    "print(\"Pixel at (50,50):\", img_rgb[50,50])  # R,G,B values"
   ]
  },
  {
   "cell_type": "code",
   "execution_count": null,
   "metadata": {},
   "outputs": [],
   "source": [
    "def downsample(img, factor):\n",
    "    h, w = img.shape[:2]\n",
    "    return cv2.resize(img, (w//factor, h//factor), interpolation=cv2.INTER_NEAREST)\n",
    "\n",
    "fig, axes = plt.subplots(1,3, figsize=(12,4))\n",
    "axes[0].imshow(img_rgb)\n",
    "axes[0].set_title(\"Original\")\n",
    "axes[0].axis(\"off\")\n",
    "\n",
    "axes[1].imshow(downsample(img_rgb, 4))\n",
    "axes[1].set_title(\"1/4 Resolution\")\n",
    "axes[1].axis(\"off\")\n",
    "\n",
    "axes[2].imshow(downsample(img_rgb, 8))\n",
    "axes[2].set_title(\"1/8 Resolution\")\n",
    "axes[2].axis(\"off\")\n",
    "plt.show()\n"
   ]
  },
  {
   "cell_type": "code",
   "execution_count": null,
   "metadata": {},
   "outputs": [],
   "source": [
    "def quantize_gray(img, levels):\n",
    "    gray = cv2.cvtColor(img, cv2.COLOR_RGB2GRAY)\n",
    "    max_val = 256\n",
    "    step = max_val // levels\n",
    "    return (gray // step) * step\n",
    "\n",
    "levels = [256, 16, 8, 4]\n",
    "fig, axes = plt.subplots(1, len(levels), figsize=(16,4))\n",
    "for i, l in enumerate(levels):\n",
    "    q = quantize_gray(img_rgb, l)\n",
    "    axes[i].imshow(q, cmap=\"gray\")\n",
    "    axes[i].set_title(f\"Quantization: {l} levels\")\n",
    "    axes[i].axis(\"off\")\n",
    "plt.show()\n"
   ]
  },
  {
   "cell_type": "code",
   "execution_count": null,
   "metadata": {},
   "outputs": [],
   "source": [
    "r, g, b = cv2.split(img_rgb)\n",
    "\n",
    "fig, axes = plt.subplots(1,4, figsize=(16,4))\n",
    "axes[0].imshow(img_rgb)\n",
    "axes[0].set_title(\"Original\")\n",
    "axes[0].axis(\"off\")\n",
    "\n",
    "axes[1].imshow(r, cmap=\"Reds\")\n",
    "axes[1].set_title(\"Red Channel\")\n",
    "axes[1].axis(\"off\")\n",
    "\n",
    "axes[2].imshow(g, cmap=\"Greens\")\n",
    "axes[2].set_title(\"Green Channel\")\n",
    "axes[2].axis(\"off\")\n",
    "\n",
    "axes[3].imshow(b, cmap=\"Blues\")\n",
    "axes[3].set_title(\"Blue Channel\")\n",
    "axes[3].axis(\"off\")\n",
    "plt.show()\n"
   ]
  },
  {
   "cell_type": "code",
   "execution_count": null,
   "metadata": {},
   "outputs": [],
   "source": [
    "## 📝 Exercises (en)\n",
    "1. Load another image (your own photo or dataset sample) and repeat the experiments.\n",
    "2. Try different sampling factors (e.g., 2, 4, 10) and observe the difference.\n",
    "3. Quantize the image to 2 gray levels (black/white). Compare with simple thresholding.\n",
    "4. Explain how sampling and quantization affect image quality.\n",
    "5. (Optional) Convert the image to HSV and display Hue, Saturation, and Value channels.\n",
    "\n",
    "## 📝 Bài tập (vi)\n",
    "1. Tải một ảnh khác (ảnh cá nhân hoặc ảnh từ dataset) và lặp lại các thí nghiệm.  \n",
    "2. Thử các hệ số lấy mẫu khác nhau (ví dụ: 2, 4, 10) và quan sát sự khác biệt.  \n",
    "3. Lượng tử hóa ảnh xuống còn 2 mức xám (đen/trắng). So sánh với phương pháp ngưỡng hóa (thresholding) đơn giản.  \n",
    "4. Giải thích cách việc lấy mẫu và lượng tử hóa ảnh hưởng đến chất lượng ảnh.  \n",
    "5. (Tuỳ chọn) Chuyển ảnh sang hệ màu HSV và hiển thị các kênh Hue, Saturation và Value.  \n"
   ]
  }
 ],
 "metadata": {
  "kernelspec": {
   "display_name": "base",
   "language": "python",
   "name": "python3"
  },
  "language_info": {
   "codemirror_mode": {
    "name": "ipython",
    "version": 3
   },
   "file_extension": ".py",
   "mimetype": "text/x-python",
   "name": "python",
   "nbconvert_exporter": "python",
   "pygments_lexer": "ipython3",
   "version": "3.12.7"
  }
 },
 "nbformat": 4,
 "nbformat_minor": 2
}
